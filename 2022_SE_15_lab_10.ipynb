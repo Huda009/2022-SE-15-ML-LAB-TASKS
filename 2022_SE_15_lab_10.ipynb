{
  "nbformat": 4,
  "nbformat_minor": 0,
  "metadata": {
    "colab": {
      "provenance": []
    },
    "kernelspec": {
      "name": "python3",
      "display_name": "Python 3"
    },
    "language_info": {
      "name": "python"
    }
  },
  "cells": [
    {
      "cell_type": "code",
      "execution_count": 24,
      "metadata": {
        "id": "ZqXxdhmzPKSf"
      },
      "outputs": [],
      "source": [
        "import pandas as pd\n",
        "import numpy as np\n",
        "from sklearn.model_selection import train_test_split\n",
        "from sklearn.preprocessing import OrdinalEncoder, StandardScaler\n",
        "from sklearn.naive_bayes import GaussianNB, MultinomialNB, BernoulliNB\n",
        "from sklearn.metrics import accuracy_score\n",
        "import warnings\n",
        "warnings.simplefilter(action='ignore', category=pd.errors.SettingWithCopyWarning)"
      ]
    },
    {
      "cell_type": "markdown",
      "source": [
        "# Load dataset"
      ],
      "metadata": {
        "id": "OSiPL2NrWvC9"
      }
    },
    {
      "cell_type": "code",
      "source": [
        "file_path = \"advertising_ef.csv\"\n",
        "df = pd.read_csv(file_path)"
      ],
      "metadata": {
        "id": "oqrCGl0cWzyQ"
      },
      "execution_count": 25,
      "outputs": []
    },
    {
      "cell_type": "markdown",
      "source": [
        "# Drop rows with missing values"
      ],
      "metadata": {
        "id": "ruzD30L9W641"
      }
    },
    {
      "cell_type": "code",
      "source": [
        "# Drop rows with missing values\n",
        "df_cleaned = df.dropna()"
      ],
      "metadata": {
        "id": "U-Rggy9qW_kK"
      },
      "execution_count": 26,
      "outputs": []
    },
    {
      "cell_type": "markdown",
      "source": [
        "### Ensure 'Clicked on Ad' has no missing values"
      ],
      "metadata": {
        "id": "GW0nCME5OSPM"
      }
    },
    {
      "cell_type": "code",
      "source": [
        "\n",
        "# Ensure 'Clicked on Ad' has no missing values\n",
        "df_cleaned = df_cleaned.dropna(subset=['Clicked on Ad'])"
      ],
      "metadata": {
        "id": "0g8sXc5SOS-H"
      },
      "execution_count": 27,
      "outputs": []
    },
    {
      "cell_type": "markdown",
      "source": [
        "# Encode categorical features using OneHotEncoder"
      ],
      "metadata": {
        "id": "4OnettWTWvAE"
      }
    },
    {
      "cell_type": "code",
      "source": [
        "from sklearn.preprocessing import OrdinalEncoder\n",
        "categorical_features = ['Country', 'City']\n",
        "ordinal_enc = OrdinalEncoder()\n",
        "df_cleaned[categorical_features] = ordinal_enc.fit_transform(df_cleaned[categorical_features])"
      ],
      "metadata": {
        "id": "RDxEAKp-L66S"
      },
      "execution_count": 28,
      "outputs": []
    },
    {
      "cell_type": "markdown",
      "source": [
        "## Convert categorical features to integer type for MultinomialNB"
      ],
      "metadata": {
        "id": "JiRPZSMJOsYh"
      }
    },
    {
      "cell_type": "code",
      "source": [
        "# Convert categorical features to integer type for MultinomialNB\n",
        "df_cleaned[categorical_features] = df_cleaned[categorical_features].astype(int)\n"
      ],
      "metadata": {
        "id": "QI6bDzLKOs1s"
      },
      "execution_count": 29,
      "outputs": []
    },
    {
      "cell_type": "markdown",
      "source": [
        "# Binary encoding for 'Gender'"
      ],
      "metadata": {
        "id": "8zSBen4BYqfD"
      }
    },
    {
      "cell_type": "code",
      "source": [
        "\n",
        "df_cleaned['Gender'] = df_cleaned['Gender'].map({'Male': 1, 'Female': 0})\n"
      ],
      "metadata": {
        "id": "N3__-1NgYoce"
      },
      "execution_count": 31,
      "outputs": []
    },
    {
      "cell_type": "markdown",
      "source": [
        "# Define features (X) and target (y)"
      ],
      "metadata": {
        "id": "Os4mSKsdYyhy"
      }
    },
    {
      "cell_type": "code",
      "source": [
        "# Define features (X) and target (y)\n",
        "numerical_features = ['Daily Time Spent on Site', 'Age', 'Area Income', 'Daily Internet Usage']\n",
        "X = df_cleaned[numerical_features + categorical_features + ['Gender']]\n",
        "y = df_cleaned['Clicked on Ad']"
      ],
      "metadata": {
        "id": "dFvv9lLFYz_Z"
      },
      "execution_count": 32,
      "outputs": []
    },
    {
      "cell_type": "markdown",
      "source": [
        "# Ensure X and y have the same number of rows"
      ],
      "metadata": {
        "id": "2wqzimb_PPuh"
      }
    },
    {
      "cell_type": "code",
      "source": [
        "# Ensure X and y have the same number of rows\n",
        "X = X.loc[y.index]\n"
      ],
      "metadata": {
        "id": "ibtn1G3FPQKG"
      },
      "execution_count": 33,
      "outputs": []
    },
    {
      "cell_type": "markdown",
      "source": [
        "# Standardize numerical features"
      ],
      "metadata": {
        "id": "wqvzikTaY6EB"
      }
    },
    {
      "cell_type": "code",
      "source": [
        "# Standardize numerical features\n",
        "scaler = StandardScaler()\n",
        "X[numerical_features] = scaler.fit_transform(X[numerical_features])\n"
      ],
      "metadata": {
        "id": "O-dYZPCJZAsQ"
      },
      "execution_count": 34,
      "outputs": []
    },
    {
      "cell_type": "markdown",
      "source": [
        "# Split into train and test sets"
      ],
      "metadata": {
        "id": "_mOwQFxEZURi"
      }
    },
    {
      "cell_type": "code",
      "source": [
        "# Split into train and test sets\n",
        "X_train, X_test, y_train, y_test = train_test_split(X, y, test_size=0.3, random_state=42, stratify=y)\n"
      ],
      "metadata": {
        "id": "q-VmUcofIgd-"
      },
      "execution_count": 35,
      "outputs": []
    },
    {
      "cell_type": "markdown",
      "source": [
        "## Gaussian Naïve Bayes (for numerical features)"
      ],
      "metadata": {
        "id": "erFTyV3LIsmJ"
      }
    },
    {
      "cell_type": "code",
      "source": [
        "# Gaussian Naïve Bayes (for numerical features)\n",
        "gnb = GaussianNB()\n",
        "X_train_gnb = X_train[numerical_features]\n",
        "X_test_gnb = X_test[numerical_features]\n",
        "gnb.fit(X_train_gnb, y_train)\n",
        "probs_gnb = gnb.predict_proba(X_test_gnb)"
      ],
      "metadata": {
        "id": "tGKvxFRPInRM"
      },
      "execution_count": 37,
      "outputs": []
    },
    {
      "cell_type": "markdown",
      "source": [
        "# Multinomial Naïve Bayes (for categorical features)"
      ],
      "metadata": {
        "id": "cCcawiIBI2yG"
      }
    },
    {
      "cell_type": "code",
      "source": [
        "# Multinomial Naïve Bayes (for categorical features)\n",
        "if not X_train[categorical_features].empty:\n",
        "    mnb = MultinomialNB()\n",
        "    X_train_mnb = X_train[categorical_features]\n",
        "    X_test_mnb = X_test[categorical_features]\n",
        "    mnb.fit(X_train_mnb, y_train)\n",
        "    probs_mnb = mnb.predict_proba(X_test_mnb)\n",
        "else:\n",
        "    probs_mnb = np.ones((len(y_test), 2)) * 0.5  # Default neutral probabilities if empty"
      ],
      "metadata": {
        "id": "l2-CTgyFI17Q"
      },
      "execution_count": 39,
      "outputs": []
    },
    {
      "cell_type": "markdown",
      "source": [
        "# Bernoulli Naïve Bayes (for binary feature: Gender)"
      ],
      "metadata": {
        "id": "IojSNOtNI_bd"
      }
    },
    {
      "cell_type": "code",
      "source": [
        "# Bernoulli Naïve Bayes (for binary feature: Gender)\n",
        "bnb = BernoulliNB()\n",
        "X_train_bnb = X_train[['Gender']]\n",
        "X_test_bnb = X_test[['Gender']]\n",
        "bnb.fit(X_train_bnb, y_train)\n",
        "probs_bnb = bnb.predict_proba(X_test_bnb)\n"
      ],
      "metadata": {
        "id": "wcNgsaJFJFpk"
      },
      "execution_count": 40,
      "outputs": []
    },
    {
      "cell_type": "markdown",
      "source": [
        "# Ensemble Using Probability Multiplication"
      ],
      "metadata": {
        "id": "BZkVl3H7JM2M"
      }
    },
    {
      "cell_type": "code",
      "source": [
        "# Ensemble Using Probability Multiplication\n",
        "ensemble_probs = probs_gnb * probs_mnb * probs_bnb  # Multiply probabilities\n",
        "ensemble_probs = ensemble_probs / np.sum(ensemble_probs, axis=1, keepdims=True)  # Normalize"
      ],
      "metadata": {
        "id": "H4lWZz3YNWrV"
      },
      "execution_count": 41,
      "outputs": []
    },
    {
      "cell_type": "markdown",
      "source": [
        "# Final predictions"
      ],
      "metadata": {
        "id": "0ASEubSYQjT1"
      }
    },
    {
      "cell_type": "code",
      "source": [
        "# Final predictions\n",
        "final_predictions = ensemble_probs[:, 1] >= 0.5  # Convert probabilities to binary (0 or 1)"
      ],
      "metadata": {
        "id": "yf56JbjMQiZx"
      },
      "execution_count": 42,
      "outputs": []
    },
    {
      "cell_type": "markdown",
      "source": [
        "# Model accuracies"
      ],
      "metadata": {
        "id": "7u-Gps8BQsFN"
      }
    },
    {
      "cell_type": "code",
      "source": [
        "# Model accuracies\n",
        "accuracy_gnb = accuracy_score(y_test, gnb.predict(X_test_gnb))\n",
        "accuracy_mnb = accuracy_score(y_test, mnb.predict(X_test_mnb)) if not X_train[categorical_features].empty else None\n",
        "accuracy_bnb = accuracy_score(y_test, bnb.predict(X_test_bnb))\n",
        "ensemble_accuracy = accuracy_score(y_test, final_predictions)\n"
      ],
      "metadata": {
        "id": "qoOO6b3wQtfx"
      },
      "execution_count": 43,
      "outputs": []
    },
    {
      "cell_type": "markdown",
      "source": [
        "## Print results"
      ],
      "metadata": {
        "id": "9IZPhNhHQ2TO"
      }
    },
    {
      "cell_type": "code",
      "source": [
        "# Print results\n",
        "print(\"Gaussian Naïve Bayes Accuracy:\", accuracy_gnb)\n",
        "if accuracy_mnb is not None:\n",
        "    print(\"Multinomial Naïve Bayes Accuracy:\", accuracy_mnb)\n",
        "print(\"Bernoulli Naïve Bayes Accuracy:\", accuracy_bnb)\n",
        "print(\"Ensemble Model Accuracy:\", ensemble_accuracy)"
      ],
      "metadata": {
        "colab": {
          "base_uri": "https://localhost:8080/"
        },
        "id": "nkj_QgERQ77W",
        "outputId": "7bc25560-d24c-4668-aaec-43830cb69d03"
      },
      "execution_count": 44,
      "outputs": [
        {
          "output_type": "stream",
          "name": "stdout",
          "text": [
            "Gaussian Naïve Bayes Accuracy: 0.9581881533101045\n",
            "Multinomial Naïve Bayes Accuracy: 0.5296167247386759\n",
            "Bernoulli Naïve Bayes Accuracy: 0.5052264808362369\n",
            "Ensemble Model Accuracy: 0.9547038327526133\n"
          ]
        }
      ]
    },
    {
      "cell_type": "markdown",
      "source": [
        "\n",
        "# Convert probabilities to DataFrame"
      ],
      "metadata": {
        "id": "nTvnksdlRbep"
      }
    },
    {
      "cell_type": "code",
      "source": [
        "\n",
        "# Convert probabilities to DataFrame for better understanding in the form of table\n",
        "prob_df = pd.DataFrame({\n",
        "    'Actual Target': y_test.values,\n",
        "    'GNB - P(No)': probs_gnb[:, 0], 'GNB - P(Yes)': probs_gnb[:, 1],\n",
        "    'MNB - P(No)': probs_mnb[:, 0], 'MNB - P(Yes)': probs_mnb[:, 1],\n",
        "    'BNB - P(No)': probs_bnb[:, 0], 'BNB - P(Yes)': probs_bnb[:, 1],\n",
        "    'Ensemble - P(No)': ensemble_probs[:, 0], 'Ensemble - P(Yes)': ensemble_probs[:, 1],\n",
        "    'Final Prediction': final_predictions\n",
        "})\n"
      ],
      "metadata": {
        "id": "3RKQiiFQRUy7"
      },
      "execution_count": null,
      "outputs": []
    },
    {
      "cell_type": "markdown",
      "source": [
        "# Map 0 -> \"No\", 1 -> \"Yes\""
      ],
      "metadata": {
        "id": "wo1YoWNtRndX"
      }
    },
    {
      "cell_type": "code",
      "source": [
        "# Map 0 -> \"No\", 1 -> \"Yes\" for better readability\n",
        "prob_df['Actual Target'] = prob_df['Actual Target'].map({0: \"No\", 1: \"Yes\"})\n",
        "prob_df['Final Prediction'] = prob_df['Final Prediction'].map({0: \"No\", 1: \"Yes\"})"
      ],
      "metadata": {
        "id": "TtnjXcH2RlYB"
      },
      "execution_count": null,
      "outputs": []
    },
    {
      "cell_type": "markdown",
      "source": [
        "# Display DataFrame"
      ],
      "metadata": {
        "id": "SeWClUPeRwdt"
      }
    },
    {
      "cell_type": "code",
      "source": [
        "# Display DataFrame in tabular format with rounded values\n",
        "prob_df = prob_df.round(6)\n",
        "prob_df.head()\n"
      ],
      "metadata": {
        "colab": {
          "base_uri": "https://localhost:8080/",
          "height": 223
        },
        "id": "_mXlPaCXRw8_",
        "outputId": "4b8bcc4f-69b4-4804-aab7-407ba686df45"
      },
      "execution_count": 50,
      "outputs": [
        {
          "output_type": "execute_result",
          "data": {
            "text/plain": [
              "  Actual Target  GNB - P(No)  GNB - P(Yes)  MNB - P(No)  MNB - P(Yes)  \\\n",
              "0           Yes     0.000000      1.000000     0.515602      0.484398   \n",
              "1            No     0.999353      0.000647     0.156657      0.843343   \n",
              "2            No     0.998980      0.001020     0.615620      0.384380   \n",
              "3            No     0.996987      0.003013     0.462489      0.537511   \n",
              "4           Yes     0.000002      0.999998     0.287164      0.712836   \n",
              "\n",
              "   BNB - P(No)  BNB - P(Yes)  Ensemble - P(No)  Ensemble - P(Yes)  \\\n",
              "0     0.520093      0.479907          0.000000           1.000000   \n",
              "1     0.471398      0.528602          0.996107           0.003893   \n",
              "2     0.520093      0.479907          0.999412           0.000588   \n",
              "3     0.471398      0.528602          0.996076           0.003924   \n",
              "4     0.471398      0.528602          0.000001           0.999999   \n",
              "\n",
              "  Final Prediction  \n",
              "0              NaN  \n",
              "1              NaN  \n",
              "2              NaN  \n",
              "3              NaN  \n",
              "4              NaN  "
            ],
            "text/html": [
              "\n",
              "  <div id=\"df-1c134329-bc7f-4907-ba33-df3fcb953510\" class=\"colab-df-container\">\n",
              "    <div>\n",
              "<style scoped>\n",
              "    .dataframe tbody tr th:only-of-type {\n",
              "        vertical-align: middle;\n",
              "    }\n",
              "\n",
              "    .dataframe tbody tr th {\n",
              "        vertical-align: top;\n",
              "    }\n",
              "\n",
              "    .dataframe thead th {\n",
              "        text-align: right;\n",
              "    }\n",
              "</style>\n",
              "<table border=\"1\" class=\"dataframe\">\n",
              "  <thead>\n",
              "    <tr style=\"text-align: right;\">\n",
              "      <th></th>\n",
              "      <th>Actual Target</th>\n",
              "      <th>GNB - P(No)</th>\n",
              "      <th>GNB - P(Yes)</th>\n",
              "      <th>MNB - P(No)</th>\n",
              "      <th>MNB - P(Yes)</th>\n",
              "      <th>BNB - P(No)</th>\n",
              "      <th>BNB - P(Yes)</th>\n",
              "      <th>Ensemble - P(No)</th>\n",
              "      <th>Ensemble - P(Yes)</th>\n",
              "      <th>Final Prediction</th>\n",
              "    </tr>\n",
              "  </thead>\n",
              "  <tbody>\n",
              "    <tr>\n",
              "      <th>0</th>\n",
              "      <td>Yes</td>\n",
              "      <td>0.000000</td>\n",
              "      <td>1.000000</td>\n",
              "      <td>0.515602</td>\n",
              "      <td>0.484398</td>\n",
              "      <td>0.520093</td>\n",
              "      <td>0.479907</td>\n",
              "      <td>0.000000</td>\n",
              "      <td>1.000000</td>\n",
              "      <td>NaN</td>\n",
              "    </tr>\n",
              "    <tr>\n",
              "      <th>1</th>\n",
              "      <td>No</td>\n",
              "      <td>0.999353</td>\n",
              "      <td>0.000647</td>\n",
              "      <td>0.156657</td>\n",
              "      <td>0.843343</td>\n",
              "      <td>0.471398</td>\n",
              "      <td>0.528602</td>\n",
              "      <td>0.996107</td>\n",
              "      <td>0.003893</td>\n",
              "      <td>NaN</td>\n",
              "    </tr>\n",
              "    <tr>\n",
              "      <th>2</th>\n",
              "      <td>No</td>\n",
              "      <td>0.998980</td>\n",
              "      <td>0.001020</td>\n",
              "      <td>0.615620</td>\n",
              "      <td>0.384380</td>\n",
              "      <td>0.520093</td>\n",
              "      <td>0.479907</td>\n",
              "      <td>0.999412</td>\n",
              "      <td>0.000588</td>\n",
              "      <td>NaN</td>\n",
              "    </tr>\n",
              "    <tr>\n",
              "      <th>3</th>\n",
              "      <td>No</td>\n",
              "      <td>0.996987</td>\n",
              "      <td>0.003013</td>\n",
              "      <td>0.462489</td>\n",
              "      <td>0.537511</td>\n",
              "      <td>0.471398</td>\n",
              "      <td>0.528602</td>\n",
              "      <td>0.996076</td>\n",
              "      <td>0.003924</td>\n",
              "      <td>NaN</td>\n",
              "    </tr>\n",
              "    <tr>\n",
              "      <th>4</th>\n",
              "      <td>Yes</td>\n",
              "      <td>0.000002</td>\n",
              "      <td>0.999998</td>\n",
              "      <td>0.287164</td>\n",
              "      <td>0.712836</td>\n",
              "      <td>0.471398</td>\n",
              "      <td>0.528602</td>\n",
              "      <td>0.000001</td>\n",
              "      <td>0.999999</td>\n",
              "      <td>NaN</td>\n",
              "    </tr>\n",
              "  </tbody>\n",
              "</table>\n",
              "</div>\n",
              "    <div class=\"colab-df-buttons\">\n",
              "\n",
              "  <div class=\"colab-df-container\">\n",
              "    <button class=\"colab-df-convert\" onclick=\"convertToInteractive('df-1c134329-bc7f-4907-ba33-df3fcb953510')\"\n",
              "            title=\"Convert this dataframe to an interactive table.\"\n",
              "            style=\"display:none;\">\n",
              "\n",
              "  <svg xmlns=\"http://www.w3.org/2000/svg\" height=\"24px\" viewBox=\"0 -960 960 960\">\n",
              "    <path d=\"M120-120v-720h720v720H120Zm60-500h600v-160H180v160Zm220 220h160v-160H400v160Zm0 220h160v-160H400v160ZM180-400h160v-160H180v160Zm440 0h160v-160H620v160ZM180-180h160v-160H180v160Zm440 0h160v-160H620v160Z\"/>\n",
              "  </svg>\n",
              "    </button>\n",
              "\n",
              "  <style>\n",
              "    .colab-df-container {\n",
              "      display:flex;\n",
              "      gap: 12px;\n",
              "    }\n",
              "\n",
              "    .colab-df-convert {\n",
              "      background-color: #E8F0FE;\n",
              "      border: none;\n",
              "      border-radius: 50%;\n",
              "      cursor: pointer;\n",
              "      display: none;\n",
              "      fill: #1967D2;\n",
              "      height: 32px;\n",
              "      padding: 0 0 0 0;\n",
              "      width: 32px;\n",
              "    }\n",
              "\n",
              "    .colab-df-convert:hover {\n",
              "      background-color: #E2EBFA;\n",
              "      box-shadow: 0px 1px 2px rgba(60, 64, 67, 0.3), 0px 1px 3px 1px rgba(60, 64, 67, 0.15);\n",
              "      fill: #174EA6;\n",
              "    }\n",
              "\n",
              "    .colab-df-buttons div {\n",
              "      margin-bottom: 4px;\n",
              "    }\n",
              "\n",
              "    [theme=dark] .colab-df-convert {\n",
              "      background-color: #3B4455;\n",
              "      fill: #D2E3FC;\n",
              "    }\n",
              "\n",
              "    [theme=dark] .colab-df-convert:hover {\n",
              "      background-color: #434B5C;\n",
              "      box-shadow: 0px 1px 3px 1px rgba(0, 0, 0, 0.15);\n",
              "      filter: drop-shadow(0px 1px 2px rgba(0, 0, 0, 0.3));\n",
              "      fill: #FFFFFF;\n",
              "    }\n",
              "  </style>\n",
              "\n",
              "    <script>\n",
              "      const buttonEl =\n",
              "        document.querySelector('#df-1c134329-bc7f-4907-ba33-df3fcb953510 button.colab-df-convert');\n",
              "      buttonEl.style.display =\n",
              "        google.colab.kernel.accessAllowed ? 'block' : 'none';\n",
              "\n",
              "      async function convertToInteractive(key) {\n",
              "        const element = document.querySelector('#df-1c134329-bc7f-4907-ba33-df3fcb953510');\n",
              "        const dataTable =\n",
              "          await google.colab.kernel.invokeFunction('convertToInteractive',\n",
              "                                                    [key], {});\n",
              "        if (!dataTable) return;\n",
              "\n",
              "        const docLinkHtml = 'Like what you see? Visit the ' +\n",
              "          '<a target=\"_blank\" href=https://colab.research.google.com/notebooks/data_table.ipynb>data table notebook</a>'\n",
              "          + ' to learn more about interactive tables.';\n",
              "        element.innerHTML = '';\n",
              "        dataTable['output_type'] = 'display_data';\n",
              "        await google.colab.output.renderOutput(dataTable, element);\n",
              "        const docLink = document.createElement('div');\n",
              "        docLink.innerHTML = docLinkHtml;\n",
              "        element.appendChild(docLink);\n",
              "      }\n",
              "    </script>\n",
              "  </div>\n",
              "\n",
              "\n",
              "<div id=\"df-4f16e527-4baf-47dd-8382-9596681e9e8c\">\n",
              "  <button class=\"colab-df-quickchart\" onclick=\"quickchart('df-4f16e527-4baf-47dd-8382-9596681e9e8c')\"\n",
              "            title=\"Suggest charts\"\n",
              "            style=\"display:none;\">\n",
              "\n",
              "<svg xmlns=\"http://www.w3.org/2000/svg\" height=\"24px\"viewBox=\"0 0 24 24\"\n",
              "     width=\"24px\">\n",
              "    <g>\n",
              "        <path d=\"M19 3H5c-1.1 0-2 .9-2 2v14c0 1.1.9 2 2 2h14c1.1 0 2-.9 2-2V5c0-1.1-.9-2-2-2zM9 17H7v-7h2v7zm4 0h-2V7h2v10zm4 0h-2v-4h2v4z\"/>\n",
              "    </g>\n",
              "</svg>\n",
              "  </button>\n",
              "\n",
              "<style>\n",
              "  .colab-df-quickchart {\n",
              "      --bg-color: #E8F0FE;\n",
              "      --fill-color: #1967D2;\n",
              "      --hover-bg-color: #E2EBFA;\n",
              "      --hover-fill-color: #174EA6;\n",
              "      --disabled-fill-color: #AAA;\n",
              "      --disabled-bg-color: #DDD;\n",
              "  }\n",
              "\n",
              "  [theme=dark] .colab-df-quickchart {\n",
              "      --bg-color: #3B4455;\n",
              "      --fill-color: #D2E3FC;\n",
              "      --hover-bg-color: #434B5C;\n",
              "      --hover-fill-color: #FFFFFF;\n",
              "      --disabled-bg-color: #3B4455;\n",
              "      --disabled-fill-color: #666;\n",
              "  }\n",
              "\n",
              "  .colab-df-quickchart {\n",
              "    background-color: var(--bg-color);\n",
              "    border: none;\n",
              "    border-radius: 50%;\n",
              "    cursor: pointer;\n",
              "    display: none;\n",
              "    fill: var(--fill-color);\n",
              "    height: 32px;\n",
              "    padding: 0;\n",
              "    width: 32px;\n",
              "  }\n",
              "\n",
              "  .colab-df-quickchart:hover {\n",
              "    background-color: var(--hover-bg-color);\n",
              "    box-shadow: 0 1px 2px rgba(60, 64, 67, 0.3), 0 1px 3px 1px rgba(60, 64, 67, 0.15);\n",
              "    fill: var(--button-hover-fill-color);\n",
              "  }\n",
              "\n",
              "  .colab-df-quickchart-complete:disabled,\n",
              "  .colab-df-quickchart-complete:disabled:hover {\n",
              "    background-color: var(--disabled-bg-color);\n",
              "    fill: var(--disabled-fill-color);\n",
              "    box-shadow: none;\n",
              "  }\n",
              "\n",
              "  .colab-df-spinner {\n",
              "    border: 2px solid var(--fill-color);\n",
              "    border-color: transparent;\n",
              "    border-bottom-color: var(--fill-color);\n",
              "    animation:\n",
              "      spin 1s steps(1) infinite;\n",
              "  }\n",
              "\n",
              "  @keyframes spin {\n",
              "    0% {\n",
              "      border-color: transparent;\n",
              "      border-bottom-color: var(--fill-color);\n",
              "      border-left-color: var(--fill-color);\n",
              "    }\n",
              "    20% {\n",
              "      border-color: transparent;\n",
              "      border-left-color: var(--fill-color);\n",
              "      border-top-color: var(--fill-color);\n",
              "    }\n",
              "    30% {\n",
              "      border-color: transparent;\n",
              "      border-left-color: var(--fill-color);\n",
              "      border-top-color: var(--fill-color);\n",
              "      border-right-color: var(--fill-color);\n",
              "    }\n",
              "    40% {\n",
              "      border-color: transparent;\n",
              "      border-right-color: var(--fill-color);\n",
              "      border-top-color: var(--fill-color);\n",
              "    }\n",
              "    60% {\n",
              "      border-color: transparent;\n",
              "      border-right-color: var(--fill-color);\n",
              "    }\n",
              "    80% {\n",
              "      border-color: transparent;\n",
              "      border-right-color: var(--fill-color);\n",
              "      border-bottom-color: var(--fill-color);\n",
              "    }\n",
              "    90% {\n",
              "      border-color: transparent;\n",
              "      border-bottom-color: var(--fill-color);\n",
              "    }\n",
              "  }\n",
              "</style>\n",
              "\n",
              "  <script>\n",
              "    async function quickchart(key) {\n",
              "      const quickchartButtonEl =\n",
              "        document.querySelector('#' + key + ' button');\n",
              "      quickchartButtonEl.disabled = true;  // To prevent multiple clicks.\n",
              "      quickchartButtonEl.classList.add('colab-df-spinner');\n",
              "      try {\n",
              "        const charts = await google.colab.kernel.invokeFunction(\n",
              "            'suggestCharts', [key], {});\n",
              "      } catch (error) {\n",
              "        console.error('Error during call to suggestCharts:', error);\n",
              "      }\n",
              "      quickchartButtonEl.classList.remove('colab-df-spinner');\n",
              "      quickchartButtonEl.classList.add('colab-df-quickchart-complete');\n",
              "    }\n",
              "    (() => {\n",
              "      let quickchartButtonEl =\n",
              "        document.querySelector('#df-4f16e527-4baf-47dd-8382-9596681e9e8c button');\n",
              "      quickchartButtonEl.style.display =\n",
              "        google.colab.kernel.accessAllowed ? 'block' : 'none';\n",
              "    })();\n",
              "  </script>\n",
              "</div>\n",
              "\n",
              "    </div>\n",
              "  </div>\n"
            ],
            "application/vnd.google.colaboratory.intrinsic+json": {
              "type": "dataframe",
              "variable_name": "prob_df",
              "repr_error": "Out of range float values are not JSON compliant: nan"
            }
          },
          "metadata": {},
          "execution_count": 50
        }
      ]
    }
  ]
}